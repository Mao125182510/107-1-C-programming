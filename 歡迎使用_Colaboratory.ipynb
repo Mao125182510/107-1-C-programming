{
  "cells": [
    {
      "cell_type": "markdown",
      "metadata": {
        "id": "view-in-github",
        "colab_type": "text"
      },
      "source": [
        "<a href=\"https://colab.research.google.com/github/Mao125182510/107-1-C-programming/blob/master/%E6%AD%A1%E8%BF%8E%E4%BD%BF%E7%94%A8_Colaboratory.ipynb\" target=\"_parent\"><img src=\"https://colab.research.google.com/assets/colab-badge.svg\" alt=\"Open In Colab\"/></a>"
      ]
    },
    {
      "cell_type": "code",
      "source": [
        "print(\"0515\")"
      ],
      "metadata": {
        "colab": {
          "base_uri": "https://localhost:8080/"
        },
        "id": "Uf2EbBnjSEeJ",
        "outputId": "f3a43cc7-7bce-4ca9-822f-35765541c584"
      },
      "execution_count": 2,
      "outputs": [
        {
          "output_type": "stream",
          "name": "stdout",
          "text": [
            "0515\n"
          ]
        }
      ]
    },
    {
      "cell_type": "code",
      "source": [
        "weather = input(\"今天会下雨吗？(Y/N): \")\n",
        "\n",
        "if weather == \"Y\" or weather == \"y\":\n",
        "    print(\"出门记得带伞！\")\n",
        "elif weather == \"N\" or weather == \"n\":\n",
        "    print(\"不用带伞。\")\n",
        "else:\n",
        "    print(\"无效的输入。请回答 Y 或 N。\")"
      ],
      "metadata": {
        "colab": {
          "base_uri": "https://localhost:8080/"
        },
        "id": "5egamIvOSKZz",
        "outputId": "4ea820d5-5df8-49f7-b3f5-292db76a56d6"
      },
      "execution_count": 4,
      "outputs": [
        {
          "output_type": "stream",
          "name": "stdout",
          "text": [
            "今天会下雨吗？(Y/N): N\n",
            "不用带伞。\n"
          ]
        }
      ]
    },
    {
      "cell_type": "code",
      "source": [
        "temperature = float(input(\"请输入体温值（摄氏度）：\"))\n",
        "\n",
        "if temperature >= 37.5:\n",
        "    print(\"体温过高\")\n",
        "elif temperature >= 37 and temperature < 37.5:\n",
        "    print(\"体温略高\")\n",
        "elif temperature >= 34 and temperature < 37:\n",
        "    print(\"体温正常\")\n",
        "elif temperature < 34:\n",
        "    print(\"体温异常，请重新检测\")\n",
        "else:\n",
        "    print(\"无效的输入\")"
      ],
      "metadata": {
        "colab": {
          "base_uri": "https://localhost:8080/"
        },
        "id": "QcAlHxMhSKcS",
        "outputId": "f5481e1e-249e-4296-c958-db850f24ab8f"
      },
      "execution_count": 5,
      "outputs": [
        {
          "output_type": "stream",
          "name": "stdout",
          "text": [
            "请输入体温值（摄氏度）：37.5\n",
            "体温过高\n"
          ]
        }
      ]
    },
    {
      "cell_type": "code",
      "source": [
        "score = int(input(\"请输入成绩：\"))\n",
        "\n",
        "if score >= 90:\n",
        "    print(\"A\")\n",
        "elif score >= 80 and score < 90:\n",
        "    print(\"B\")\n",
        "elif score >= 70 and score < 80:\n",
        "    print(\"C\")\n",
        "elif score >= 60 and score < 70:\n",
        "    print(\"D\")\n",
        "else:\n",
        "    print(\"E\")"
      ],
      "metadata": {
        "colab": {
          "base_uri": "https://localhost:8080/"
        },
        "id": "vLVizvYCSKfw",
        "outputId": "aa666536-3cc1-43dc-f02f-49d329f5d446"
      },
      "execution_count": 6,
      "outputs": [
        {
          "output_type": "stream",
          "name": "stdout",
          "text": [
            "请输入成绩：85\n",
            "B\n"
          ]
        }
      ]
    },
    {
      "cell_type": "code",
      "source": [
        "income = int(input(\"请输入收入金额：\"))\n",
        "\n",
        "if income >= 2000000:\n",
        "    tax_rate = 0.3\n",
        "elif income >= 1000000 and income < 2000000:\n",
        "    tax_rate = 0.21\n",
        "elif income >= 600000 and income < 1000000:\n",
        "    tax_rate = 0.13\n",
        "elif income >= 300000 and income < 600000:\n",
        "    tax_rate = 0.06\n",
        "else:\n",
        "    tax_rate = 0\n",
        "\n",
        "tax_amount = income * tax_rate\n",
        "print(\"税金金额：\", tax_amount)"
      ],
      "metadata": {
        "colab": {
          "base_uri": "https://localhost:8080/"
        },
        "id": "nzwumhNiSKhp",
        "outputId": "c4291fa1-f656-46ce-f137-bfb23a820dea"
      },
      "execution_count": 7,
      "outputs": [
        {
          "output_type": "stream",
          "name": "stdout",
          "text": [
            "请输入收入金额：25000000\n",
            "税金金额： 7500000.0\n"
          ]
        }
      ]
    },
    {
      "cell_type": "code",
      "source": [],
      "metadata": {
        "id": "ipcc5EL_SKkt"
      },
      "execution_count": null,
      "outputs": []
    },
    {
      "cell_type": "code",
      "source": [],
      "metadata": {
        "id": "zVVe2kwUSKmG"
      },
      "execution_count": null,
      "outputs": []
    },
    {
      "cell_type": "code",
      "source": [],
      "metadata": {
        "id": "ZhdyqiZwSKoB"
      },
      "execution_count": null,
      "outputs": []
    },
    {
      "cell_type": "code",
      "source": [],
      "metadata": {
        "id": "E708ZBlYSKpa"
      },
      "execution_count": null,
      "outputs": []
    }
  ],
  "metadata": {
    "colab": {
      "name": "歡迎使用 Colaboratory",
      "toc_visible": true,
      "provenance": [],
      "include_colab_link": true
    },
    "kernelspec": {
      "display_name": "Python 3",
      "name": "python3"
    }
  },
  "nbformat": 4,
  "nbformat_minor": 0
}